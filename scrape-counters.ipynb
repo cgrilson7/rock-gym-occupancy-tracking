{
 "metadata": {
  "language_info": {
   "codemirror_mode": {
    "name": "ipython",
    "version": 3
   },
   "file_extension": ".py",
   "mimetype": "text/x-python",
   "name": "python",
   "nbconvert_exporter": "python",
   "pygments_lexer": "ipython3",
   "version": "3.8.3-final"
  },
  "orig_nbformat": 2,
  "kernelspec": {
   "name": "python3",
   "display_name": "Python 3.8.3 64-bit ('3.8.3')",
   "metadata": {
    "interpreter": {
     "hash": "83eee36366ffb6dc04d359cfd1272736098c21c24c26465445a07708913d5937"
    }
   }
  }
 },
 "nbformat": 4,
 "nbformat_minor": 2,
 "cells": [
  {
   "cell_type": "code",
   "execution_count": 84,
   "metadata": {},
   "outputs": [],
   "source": [
    "import requests\n",
    "from bs4 import BeautifulSoup\n",
    "import json\n",
    "import re\n",
    "import ast\n",
    "import time\n",
    "\n",
    "url_evo = \"https://portal.rockgympro.com/portal/public/e758e0e391200c87c7bea411f033aab2/occupancy\"\n",
    "url_saltpump = \"https://portal.rockgympro.com/portal/public/8490bc5e774d0034d09420df23a224b9/occupancy\"\n",
    "\n",
    "headers = {\n",
    "    # 'Host': \"portal.rockgympro.com\",\n",
    "    # 'Connection': \"keep-alive\",\n",
    "    # 'Cache-Control': \"max-age=0\",\n",
    "    # 'Upgrade-Insecure-Requests': \"1\",\n",
    "    'User-Agent': \"Mozilla/5.0 (Linux; Android 6.0; Nexus 5 Build/MRA58N) AppleWebKit/537.36 (KHTML, like Gecko) Chrome/84.0.4147.68 Mobile Safari/537.36\",\n",
    "    # 'Accept': \"text/html,application/xhtml+xml,application/xml;q=0.9,image/webp,image/apng,*/*;q=0.8,application/signed-exchange;v=b3;q=0.9\",\n",
    "    # 'Sec-Fetch-Site': \"none\",\n",
    "    # 'Sec-Fetch-Mode': \"navigate\",\n",
    "    # 'Sec-Fetch-User': \"?1\",\n",
    "    # 'Sec-Fetch-Dest': \"document\",\n",
    "    # 'Accept-Encoding': \"gzip, deflate, br\",\n",
    "    # 'Accept-Language': \"en-US,en;q=0.9\"\n",
    "}\n",
    "\n",
    "r = requests.get(url_evo, headers = headers)\n",
    "\n",
    "soup = BeautifulSoup(r.text, 'html.parser')"
   ]
  },
  {
   "cell_type": "code",
   "execution_count": 85,
   "metadata": {},
   "outputs": [
    {
     "output_type": "execute_result",
     "data": {
      "text/plain": [
       "'\\n\\n    var data = {\\n        \\'AAA\\' : { \\n    \\'capacity\\' : 40,\\n    \\'count\\' : 3,\\n    \\'subLabel\\' : \\'Current climber count\\',\\n    \\'lastUpdate\\' : \\'Last updated:&nbsp7 mins ago (9:48 AM)\\'\\n},    };\\n\\n    function showGym(tag) {\\n\\n                tag=Object.keys(data)[0];        \\n        \\n        if (!tag) {\\n            $(\\'#main-content\\').hide();\\n            return;\\n        } else {\\n            $(\\'#main-content\\').show();\\n        }\\n        var dataElement = data[tag];\\n        if (!dataElement) {\\n            return;\\n        }\\n\\n        var opts = {\\n            angle: 0.10, // The span of the gauge arc\\n            lineWidth: 0.44, // The line thickness\\n            radiusScale: 1, // Relative radius\\n            pointer: {\\n                length: 0.6, // // Relative to gauge radius\\n                strokeWidth: 0.035, // The thickness\\n                color: \\'black\\' // Fill color\\n            },\\n            limitMax: false,     // If false, max value increases automatically if value > maxValue\\n            limitMin: false,     // If true, the min value of the gauge will be fixed\\n            colorStop: \\'#8FC0DA\\',    // just experiment with them\\n            strokeColor: \\'#E0E0E0\\',  // to see which ones work best for you\\n            generateGradient: true,\\n            highDpiSupport: true,     // High resolution support\\n        };\\n        var target = document.getElementById(\\'gauge\\'); // your canvas element\\n        var gauge = new Gauge(target).setOptions(opts); // create sexy gauge!\\n        gauge.setTextField(document.getElementById(\"count\"));\\n        gauge.maxValue = dataElement.capacity; // set max gauge value\\n        gauge.setMinValue(0);  // Prefer setter over gauge.minValue = 0\\n        gauge.animationSpeed = 32; // set animation speed (32 is default value)\\n        gauge.set(dataElement.count); // set actual value\\n\\n        if (dataElement.count === 1) {\\n            $(\\'#visitor\\').html(\\'climber\\');\\n        } else {\\n            $(\\'#visitor\\').html(\\'climbers\\');\\n        }\\n\\n        if (dataElement.subLabel && dataElement.subLabel.length > 0) {\\n            $(\\'#facility-sub-label\\').html(dataElement.subLabel).show();\\n        } else {\\n            $(\\'#facility-sub-label\\').hide();\\n        }\\n\\n        $(\\'#facility-sub-label\\').html(dataElement.subLabel);\\n\\n        $(\\'#last-update\\').html(dataElement.lastUpdate);\\n\\n        $(\\'#capacity\\').html(\"of \" + dataElement.capacity);\\n    };\\n\\n    showGym(\\'\\');\\n\\n    $(\\'#gym-switcher\\').change(function () {\\n        var tag = $(\\'#gym-switcher\\').val();\\n        showGym(tag);\\n    });\\n'"
      ]
     },
     "metadata": {},
     "execution_count": 85
    }
   ],
   "source": [
    "s = soup.find('body').find('script').string\n",
    "s"
   ]
  },
  {
   "cell_type": "code",
   "execution_count": 98,
   "metadata": {},
   "outputs": [
    {
     "output_type": "execute_result",
     "data": {
      "text/plain": [
       "{'capacity': 40,\n",
       " 'count': 3,\n",
       " 'subLabel': 'Current climber count',\n",
       " 'lastUpdate': 'Last updated:&nbsp7 mins ago (9:48 AM)'}"
      ]
     },
     "metadata": {},
     "execution_count": 98
    }
   ],
   "source": [
    "d = ast.literal_eval(s.partition(\"var data = \")[2].partition(\";\")[0])\n",
    "d"
   ]
  },
  {
   "cell_type": "code",
   "execution_count": 101,
   "metadata": {},
   "outputs": [],
   "source": [
    "def scrape_counter(gym_id):\n",
    "\n",
    "    headers = {\n",
    "        'User-Agent': \"Mozilla/5.0 (Linux; Android 6.0; Nexus 5 Build/MRA58N) AppleWebKit/537.36 (KHTML, like Gecko) Chrome/84.0.4147.68 Mobile Safari/537.36\",\n",
    "    }\n",
    "\n",
    "    url = \"https://portal.rockgympro.com/portal/public/\" + gym_id + \"/occupancy\"\n",
    "\n",
    "    r = requests.get(url, headers = headers)\n",
    "\n",
    "    soup = BeautifulSoup(r.text, 'html.parser')\n",
    "\n",
    "    data_script = soup.find('body').find('script').string\n",
    "    data_dict = ast.literal_eval(s.partition(\"var data = \")[2].partition(\";\")[0])['AAA']\n",
    "\n",
    "    out = {\n",
    "        \"gym_id\": gym_id,\n",
    "        \"accessed_at\": time.time(),\n",
    "        \"count\": data_dict['count'],\n",
    "        \"capacity\": data_dict['capacity']\n",
    "    }\n",
    "\n",
    "    return(out)\n"
   ]
  },
  {
   "cell_type": "code",
   "execution_count": 102,
   "metadata": {},
   "outputs": [
    {
     "output_type": "execute_result",
     "data": {
      "text/plain": [
       "{'gym_id': 'e758e0e391200c87c7bea411f033aab2',\n",
       " 'accessed_at': 1610032354.713402,\n",
       " 'count': 3,\n",
       " 'capacity': 40}"
      ]
     },
     "metadata": {},
     "execution_count": 102
    }
   ],
   "source": [
    "scrape_counter(\"e758e0e391200c87c7bea411f033aab2\")"
   ]
  },
  {
   "cell_type": "code",
   "execution_count": 92,
   "metadata": {},
   "outputs": [
    {
     "output_type": "stream",
     "name": "stdout",
     "text": [
      "[{'gym': 'Evo', 'city': 'Portland', 'state': 'ME', 'id': 'e758e0e391200c87c7bea411f033aab2'}, {'gym': 'Salt Pump', 'city': 'Scarborough', 'state': 'ME', 'id': '8490bc5e774d0034d09420df23a224b9'}]\n"
     ]
    }
   ],
   "source": [
    "with open(\"gyms.json\", \"r\") as read_file:\n",
    "    data = json.load(read_file)\n",
    "\n",
    "print(data)"
   ]
  },
  {
   "cell_type": "code",
   "execution_count": 103,
   "metadata": {},
   "outputs": [],
   "source": [
    "results = []\n",
    "for gym in data:\n",
    "    current_scrape = scrape_counter(gym['id'])\n",
    "    results.append(current_scrape)\n",
    "    time.sleep(2)"
   ]
  },
  {
   "cell_type": "code",
   "execution_count": null,
   "metadata": {},
   "outputs": [],
   "source": [
    "with open(\"gym_counter_results.json\") as data_file:\n",
    "    past_results = json.load(data_file)\n",
    "\n",
    "results = past_results + results\n",
    "\n",
    "with open('gym_counter_results.json', 'w') as outfile:\n",
    "    json.dump(results, outfile, indent=4)\n",
    "    "
   ]
  },
  {
   "cell_type": "code",
   "execution_count": 105,
   "metadata": {},
   "outputs": [
    {
     "output_type": "execute_result",
     "data": {
      "text/plain": [
       "[{'gym_id': 'e758e0e391200c87c7bea411f033aab2',\n",
       "  'accessed_at': 1610032420.137992,\n",
       "  'count': 3,\n",
       "  'capacity': 40},\n",
       " {'gym_id': '8490bc5e774d0034d09420df23a224b9',\n",
       "  'accessed_at': 1610032422.690337,\n",
       "  'count': 3,\n",
       "  'capacity': 40}]"
      ]
     },
     "metadata": {},
     "execution_count": 105
    }
   ],
   "source": [
    "results"
   ]
  },
  {
   "cell_type": "code",
   "execution_count": null,
   "metadata": {},
   "outputs": [],
   "source": []
  }
 ]
}